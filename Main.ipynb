{
 "cells": [
  {
   "cell_type": "code",
   "execution_count": 1,
   "metadata": {},
   "outputs": [],
   "source": [
    "import numpy as np\n",
    "import pandas as pd\n",
    "import matplotlib.pyplot as plt\n",
    "import seaborn as sns\n",
    "\n",
    "import warnings\n",
    "warnings.filterwarnings(action='ignore')"
   ]
  },
  {
   "cell_type": "code",
   "execution_count": 2,
   "metadata": {},
   "outputs": [],
   "source": [
    "data = pd.read_csv('data/data.csv', encoding= 'unicode_escape')\n",
    "\n",
    "before_corona = data[data['end_date'] < '2020-03-17']\n",
    "after_corona = data[data['end_date'] > '2020-03-17']"
   ]
  },
  {
   "cell_type": "code",
   "execution_count": 3,
   "metadata": {},
   "outputs": [],
   "source": [
    "#필요없는 column 제거\n",
    "before_corona.drop(['id', 'uri', 'track_href', 'analysis_url', 'type'], axis=1, inplace=True)\n",
    "after_corona.drop(['id', 'uri', 'track_href', 'analysis_url', 'type'], axis=1, inplace=True)"
   ]
  },
  {
   "cell_type": "code",
   "execution_count": 4,
   "metadata": {
    "scrolled": true
   },
   "outputs": [
    {
     "data": {
      "text/html": [
       "<div>\n",
       "<style scoped>\n",
       "    .dataframe tbody tr th:only-of-type {\n",
       "        vertical-align: middle;\n",
       "    }\n",
       "\n",
       "    .dataframe tbody tr th {\n",
       "        vertical-align: top;\n",
       "    }\n",
       "\n",
       "    .dataframe thead th {\n",
       "        text-align: right;\n",
       "    }\n",
       "</style>\n",
       "<table border=\"1\" class=\"dataframe\">\n",
       "  <thead>\n",
       "    <tr style=\"text-align: right;\">\n",
       "      <th></th>\n",
       "      <th>Position</th>\n",
       "      <th>Track Name</th>\n",
       "      <th>Artist</th>\n",
       "      <th>Streams</th>\n",
       "      <th>region</th>\n",
       "      <th>spotify_id</th>\n",
       "      <th>danceability</th>\n",
       "      <th>energy</th>\n",
       "      <th>key</th>\n",
       "      <th>loudness</th>\n",
       "      <th>...</th>\n",
       "      <th>speechiness</th>\n",
       "      <th>acousticness</th>\n",
       "      <th>instrumentalness</th>\n",
       "      <th>liveness</th>\n",
       "      <th>valence</th>\n",
       "      <th>tempo</th>\n",
       "      <th>duration_ms</th>\n",
       "      <th>time_signature</th>\n",
       "      <th>start_date</th>\n",
       "      <th>end_date</th>\n",
       "    </tr>\n",
       "  </thead>\n",
       "  <tbody>\n",
       "    <tr>\n",
       "      <th>0</th>\n",
       "      <td>1</td>\n",
       "      <td>Dance Monkey</td>\n",
       "      <td>Tones And I</td>\n",
       "      <td>46784119</td>\n",
       "      <td>global</td>\n",
       "      <td>1rgnBhdG2JDFTbYkYRZAku</td>\n",
       "      <td>0.825</td>\n",
       "      <td>0.593</td>\n",
       "      <td>6</td>\n",
       "      <td>-6.401</td>\n",
       "      <td>...</td>\n",
       "      <td>0.0988</td>\n",
       "      <td>0.68800</td>\n",
       "      <td>0.000161</td>\n",
       "      <td>0.1700</td>\n",
       "      <td>0.540</td>\n",
       "      <td>98.078</td>\n",
       "      <td>209755</td>\n",
       "      <td>4</td>\n",
       "      <td>2020-01-31</td>\n",
       "      <td>2020-02-07</td>\n",
       "    </tr>\n",
       "    <tr>\n",
       "      <th>1</th>\n",
       "      <td>2</td>\n",
       "      <td>The Box</td>\n",
       "      <td>Roddy Ricch</td>\n",
       "      <td>46163456</td>\n",
       "      <td>global</td>\n",
       "      <td>0nbXyq5TXYPCO7pr3N8S4I</td>\n",
       "      <td>0.896</td>\n",
       "      <td>0.586</td>\n",
       "      <td>10</td>\n",
       "      <td>-6.687</td>\n",
       "      <td>...</td>\n",
       "      <td>0.0559</td>\n",
       "      <td>0.10400</td>\n",
       "      <td>0.000000</td>\n",
       "      <td>0.7900</td>\n",
       "      <td>0.642</td>\n",
       "      <td>116.971</td>\n",
       "      <td>196653</td>\n",
       "      <td>4</td>\n",
       "      <td>2020-01-31</td>\n",
       "      <td>2020-02-07</td>\n",
       "    </tr>\n",
       "    <tr>\n",
       "      <th>2</th>\n",
       "      <td>3</td>\n",
       "      <td>Blinding Lights</td>\n",
       "      <td>The Weeknd</td>\n",
       "      <td>39499306</td>\n",
       "      <td>global</td>\n",
       "      <td>0sf12qNH5qcw8qpgymFOqD</td>\n",
       "      <td>0.513</td>\n",
       "      <td>0.796</td>\n",
       "      <td>1</td>\n",
       "      <td>-4.075</td>\n",
       "      <td>...</td>\n",
       "      <td>0.0629</td>\n",
       "      <td>0.00147</td>\n",
       "      <td>0.000209</td>\n",
       "      <td>0.0938</td>\n",
       "      <td>0.345</td>\n",
       "      <td>171.017</td>\n",
       "      <td>201573</td>\n",
       "      <td>4</td>\n",
       "      <td>2020-01-31</td>\n",
       "      <td>2020-02-07</td>\n",
       "    </tr>\n",
       "    <tr>\n",
       "      <th>3</th>\n",
       "      <td>4</td>\n",
       "      <td>Tusa</td>\n",
       "      <td>KAROL G</td>\n",
       "      <td>34306204</td>\n",
       "      <td>global</td>\n",
       "      <td>7k4t7uLgtOxPwTpFmtJNTY</td>\n",
       "      <td>0.803</td>\n",
       "      <td>0.715</td>\n",
       "      <td>2</td>\n",
       "      <td>-3.280</td>\n",
       "      <td>...</td>\n",
       "      <td>0.2980</td>\n",
       "      <td>0.29500</td>\n",
       "      <td>0.000134</td>\n",
       "      <td>0.0574</td>\n",
       "      <td>0.574</td>\n",
       "      <td>101.085</td>\n",
       "      <td>200960</td>\n",
       "      <td>4</td>\n",
       "      <td>2020-01-31</td>\n",
       "      <td>2020-02-07</td>\n",
       "    </tr>\n",
       "    <tr>\n",
       "      <th>4</th>\n",
       "      <td>5</td>\n",
       "      <td>Don't Start Now</td>\n",
       "      <td>Dua Lipa</td>\n",
       "      <td>31619914</td>\n",
       "      <td>global</td>\n",
       "      <td>6WrI0LAC5M1Rw2MnX2ZvEg</td>\n",
       "      <td>0.794</td>\n",
       "      <td>0.793</td>\n",
       "      <td>11</td>\n",
       "      <td>-4.521</td>\n",
       "      <td>...</td>\n",
       "      <td>0.0842</td>\n",
       "      <td>0.01250</td>\n",
       "      <td>0.000000</td>\n",
       "      <td>0.0952</td>\n",
       "      <td>0.677</td>\n",
       "      <td>123.941</td>\n",
       "      <td>183290</td>\n",
       "      <td>4</td>\n",
       "      <td>2020-01-31</td>\n",
       "      <td>2020-02-07</td>\n",
       "    </tr>\n",
       "  </tbody>\n",
       "</table>\n",
       "<p>5 rows × 21 columns</p>\n",
       "</div>"
      ],
      "text/plain": [
       "   Position       Track Name       Artist   Streams  region  \\\n",
       "0         1     Dance Monkey  Tones And I  46784119  global   \n",
       "1         2          The Box  Roddy Ricch  46163456  global   \n",
       "2         3  Blinding Lights   The Weeknd  39499306  global   \n",
       "3         4             Tusa      KAROL G  34306204  global   \n",
       "4         5  Don't Start Now     Dua Lipa  31619914  global   \n",
       "\n",
       "               spotify_id  danceability  energy  key  loudness  ...  \\\n",
       "0  1rgnBhdG2JDFTbYkYRZAku         0.825   0.593    6    -6.401  ...   \n",
       "1  0nbXyq5TXYPCO7pr3N8S4I         0.896   0.586   10    -6.687  ...   \n",
       "2  0sf12qNH5qcw8qpgymFOqD         0.513   0.796    1    -4.075  ...   \n",
       "3  7k4t7uLgtOxPwTpFmtJNTY         0.803   0.715    2    -3.280  ...   \n",
       "4  6WrI0LAC5M1Rw2MnX2ZvEg         0.794   0.793   11    -4.521  ...   \n",
       "\n",
       "   speechiness  acousticness  instrumentalness  liveness  valence    tempo  \\\n",
       "0       0.0988       0.68800          0.000161    0.1700    0.540   98.078   \n",
       "1       0.0559       0.10400          0.000000    0.7900    0.642  116.971   \n",
       "2       0.0629       0.00147          0.000209    0.0938    0.345  171.017   \n",
       "3       0.2980       0.29500          0.000134    0.0574    0.574  101.085   \n",
       "4       0.0842       0.01250          0.000000    0.0952    0.677  123.941   \n",
       "\n",
       "   duration_ms  time_signature  start_date    end_date  \n",
       "0       209755               4  2020-01-31  2020-02-07  \n",
       "1       196653               4  2020-01-31  2020-02-07  \n",
       "2       201573               4  2020-01-31  2020-02-07  \n",
       "3       200960               4  2020-01-31  2020-02-07  \n",
       "4       183290               4  2020-01-31  2020-02-07  \n",
       "\n",
       "[5 rows x 21 columns]"
      ]
     },
     "execution_count": 4,
     "metadata": {},
     "output_type": "execute_result"
    }
   ],
   "source": [
    "before_corona.head()"
   ]
  },
  {
   "cell_type": "code",
   "execution_count": 5,
   "metadata": {},
   "outputs": [
    {
     "name": "stdout",
     "output_type": "stream",
     "text": [
      "before_corona shape :(1200, 21)\n",
      "after_corona shape :(2400, 21)\n"
     ]
    }
   ],
   "source": [
    "print('before_corona shape :{}'.format(before_corona.shape))\n",
    "print('after_corona shape :{}'.format(after_corona.shape))"
   ]
  },
  {
   "cell_type": "markdown",
   "metadata": {},
   "source": [
    "* 코로나 이전에 1200개의 데이터, 코로나 이후에 2400개의 데이터가 존재\n",
    "* 중복값을 제거해 unique value만 남김"
   ]
  },
  {
   "cell_type": "code",
   "execution_count": 6,
   "metadata": {},
   "outputs": [],
   "source": [
    "before_corona.drop_duplicates(subset='spotify_id', inplace=True)\n",
    "after_corona.drop_duplicates(subset='spotify_id', inplace=True)"
   ]
  },
  {
   "cell_type": "code",
   "execution_count": 7,
   "metadata": {
    "scrolled": true
   },
   "outputs": [
    {
     "name": "stdout",
     "output_type": "stream",
     "text": [
      "before_corona shape :(345, 21)\n",
      "after_corona shape :(423, 21)\n"
     ]
    }
   ],
   "source": [
    "print('before_corona shape :{}'.format(before_corona.shape))\n",
    "print('after_corona shape :{}'.format(after_corona.shape))"
   ]
  },
  {
   "cell_type": "markdown",
   "metadata": {},
   "source": [
    "코로나 이전에 345개의 음악, 코로나 이후에 423개의 음악이 순위권에 오름"
   ]
  },
  {
   "cell_type": "code",
   "execution_count": 8,
   "metadata": {},
   "outputs": [
    {
     "data": {
      "text/plain": [
       "Index(['Position', 'Track Name', 'Artist', 'Streams', 'region', 'spotify_id',\n",
       "       'danceability', 'energy', 'key', 'loudness', 'mode', 'speechiness',\n",
       "       'acousticness', 'instrumentalness', 'liveness', 'valence', 'tempo',\n",
       "       'duration_ms', 'time_signature', 'start_date', 'end_date'],\n",
       "      dtype='object')"
      ]
     },
     "execution_count": 8,
     "metadata": {},
     "output_type": "execute_result"
    }
   ],
   "source": [
    "before_corona.columns"
   ]
  },
  {
   "cell_type": "code",
   "execution_count": null,
   "metadata": {},
   "outputs": [],
   "source": []
  },
  {
   "cell_type": "code",
   "execution_count": 9,
   "metadata": {},
   "outputs": [
    {
     "name": "stdout",
     "output_type": "stream",
     "text": [
      "0.7090811594202897\n",
      "0.7130047281323876\n"
     ]
    }
   ],
   "source": [
    "print(before_corona['danceability'].mean())\n",
    "print(after_corona['danceability'].mean())"
   ]
  },
  {
   "cell_type": "code",
   "execution_count": null,
   "metadata": {},
   "outputs": [],
   "source": [
    "print(before_corona['energy'].mean())\n",
    "print(after_corona['energy'].mean())"
   ]
  },
  {
   "cell_type": "code",
   "execution_count": null,
   "metadata": {},
   "outputs": [],
   "source": [
    "print(before_corona['danceability'].mean())\n",
    "print(after_corona['danceability'].mean())"
   ]
  },
  {
   "cell_type": "code",
   "execution_count": null,
   "metadata": {},
   "outputs": [],
   "source": []
  },
  {
   "cell_type": "code",
   "execution_count": null,
   "metadata": {},
   "outputs": [],
   "source": []
  },
  {
   "cell_type": "code",
   "execution_count": null,
   "metadata": {},
   "outputs": [],
   "source": []
  }
 ],
 "metadata": {
  "kernelspec": {
   "display_name": "Python 3",
   "language": "python",
   "name": "python3"
  },
  "language_info": {
   "codemirror_mode": {
    "name": "ipython",
    "version": 3
   },
   "file_extension": ".py",
   "mimetype": "text/x-python",
   "name": "python",
   "nbconvert_exporter": "python",
   "pygments_lexer": "ipython3",
   "version": "3.7.6"
  }
 },
 "nbformat": 4,
 "nbformat_minor": 4
}
