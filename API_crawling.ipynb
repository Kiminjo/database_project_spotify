{
 "cells": [
  {
   "cell_type": "code",
   "execution_count": 1,
   "metadata": {},
   "outputs": [],
   "source": [
    "import spotipy\n",
    "from spotipy.oauth2 import SpotifyClientCredentials\n",
    "from fycharts.SpotifyCharts import SpotifyCharts\n",
    "\n",
    "import numpy as np\n",
    "import pandas as pd\n",
    "import datetime\n",
    "\n",
    "import warnings\n",
    "\n",
    "warnings.filterwarnings(action='ignore')"
   ]
  },
  {
   "cell_type": "markdown",
   "metadata": {},
   "source": [
    "# Crawling Top 200 chart between 2020/1/31 - 2020/6/17"
   ]
  },
  {
   "cell_type": "code",
   "execution_count": 2,
   "metadata": {
    "scrolled": true
   },
   "outputs": [],
   "source": [
    "def make_continuous_day() :\n",
    "    start = datetime.date(2020,2,1)\n",
    "    end = datetime.date(2020,4,30)\n",
    "    all_day = end-start\n",
    "\n",
    "    day_list = []\n",
    "\n",
    "    for i in range(all_day.days +1) :\n",
    "        delta = start + datetime.timedelta(days=i)\n",
    "        day_list.append(delta)\n",
    "\n",
    "    day = []\n",
    "    for ls in day_list :\n",
    "        num_date = str(ls.year) + '/' + str(ls.month) + '/' + str(ls.day)\n",
    "        day.append(datetime.datetime.strptime(num_date, \"%Y/%m/%d\").strftime(\"%Y-%m-%d\"))\n",
    "        \n",
    "    return day"
   ]
  },
  {
   "cell_type": "code",
   "execution_count": 3,
   "metadata": {},
   "outputs": [],
   "source": [
    "day = make_continuous_day()\n",
    "\n",
    "api = SpotifyCharts()\n",
    "#api.top200Weekly(start = '2020-05-29', output_file='top200/5_29.csv')"
   ]
  },
  {
   "cell_type": "markdown",
   "metadata": {},
   "source": [
    "# Data load"
   ]
  },
  {
   "cell_type": "markdown",
   "metadata": {},
   "source": [
    "**5월 마지막주차 (2020/05/29~2020/06/05) 데이터는 에러로 제외**"
   ]
  },
  {
   "cell_type": "code",
   "execution_count": 4,
   "metadata": {
    "scrolled": true
   },
   "outputs": [],
   "source": [
    "Jan_31 = pd.read_csv('data/top200/1_31.csv', encoding= 'unicode_escape')\n",
    "Feb_07 = pd.read_csv('data/top200/2_07.csv', encoding= 'unicode_escape')\n",
    "Feb_14 = pd.read_csv('data/top200/2_14.csv', encoding= 'unicode_escape')\n",
    "Feb_21 = pd.read_csv('data/top200/2_21.csv', encoding= 'unicode_escape')\n",
    "Feb_28 = pd.read_csv('data/top200/2_28.csv', encoding= 'unicode_escape')\n",
    "Mar_06 = pd.read_csv('data/top200/3_06.csv', encoding= 'unicode_escape')\n",
    "Mar_13 = pd.read_csv('data/top200/3_13.csv', encoding= 'unicode_escape')\n",
    "Mar_20 = pd.read_csv('data/top200/3_20.csv', encoding= 'unicode_escape')\n",
    "Mar_27 = pd.read_csv('data/top200/3_27.csv', encoding= 'unicode_escape')\n",
    "Api_03 = pd.read_csv('data/top200/4_03.csv', encoding= 'unicode_escape')\n",
    "Api_10 = pd.read_csv('data/top200/4_10.csv', encoding= 'unicode_escape')\n",
    "Api_17 = pd.read_csv('data/top200/4_17.csv', encoding= 'unicode_escape')\n",
    "Api_24 = pd.read_csv('data/top200/4_24.csv', encoding= 'unicode_escape')\n",
    "May_01 = pd.read_csv('data/top200/5_01.csv', encoding= 'unicode_escape')\n",
    "May_08 = pd.read_csv('data/top200/5_08.csv', encoding= 'unicode_escape')\n",
    "May_15 = pd.read_csv('data/top200/5_15.csv', encoding= 'unicode_escape')\n",
    "May_22 = pd.read_csv('data/top200/5_22.csv', encoding= 'unicode_escape')\n",
    "Jun_05 = pd.read_csv('data/top200/6_05.csv', encoding= 'unicode_escape')"
   ]
  },
  {
   "cell_type": "markdown",
   "metadata": {},
   "source": [
    "**Jan_31은 nan column이 200개 생성되어 모두 drop 해줌**"
   ]
  },
  {
   "cell_type": "code",
   "execution_count": 5,
   "metadata": {},
   "outputs": [],
   "source": [
    "Jan_31.dropna(axis=0, inplace=True)\n",
    "Jan_31.reset_index(drop=True, inplace=True)"
   ]
  },
  {
   "cell_type": "markdown",
   "metadata": {},
   "source": [
    "# Extract feature values from charts"
   ]
  },
  {
   "cell_type": "code",
   "execution_count": 6,
   "metadata": {},
   "outputs": [],
   "source": [
    "def extract_feature(data) : \n",
    "    s_id = data.spotify_id\n",
    "\n",
    "    # client information\n",
    "    client_id = '5a483a6380094c8bad8def8214cccb69'\n",
    "    client_secret = '75c31c725ebc4644907168e8a61cb1a5'\n",
    "\n",
    "    #spotify method to access API\n",
    "    credential = SpotifyClientCredentials(client_id=client_id, client_secret=client_secret)\n",
    "    sp = spotipy.Spotify(client_credentials_manager=credential)\n",
    "\n",
    "    #extract feature\n",
    "    feature_1 = sp.audio_features(s_id[0:100])\n",
    "    feature_1 = pd.DataFrame(feature_1)\n",
    "    \n",
    "    feature_2 = sp.audio_features(s_id[100:200])\n",
    "    feature_2 = pd.DataFrame(feature_2)\n",
    "\n",
    "    feature = pd.concat([feature_1, feature_2], axis=0)\n",
    "    feature.reset_index(drop=True, inplace=True)\n",
    "    \n",
    "    data = pd.concat([data, feature], axis=1)\n",
    "    \n",
    "    return data"
   ]
  },
  {
   "cell_type": "code",
   "execution_count": 7,
   "metadata": {},
   "outputs": [],
   "source": [
    "Jan_31 = extract_feature(Jan_31)\n",
    "Feb_07 = extract_feature(Feb_07)\n",
    "Feb_14 = extract_feature(Feb_14)\n",
    "Feb_21 = extract_feature(Feb_21)\n",
    "Feb_28 = extract_feature(Feb_28)\n",
    "Mar_06 = extract_feature(Mar_06)\n",
    "Mar_13 = extract_feature(Mar_13)\n",
    "Mar_20 = extract_feature(Mar_20)\n",
    "Mar_27 = extract_feature(Mar_27)\n",
    "Api_03 = extract_feature(Api_03)\n",
    "Api_10 = extract_feature(Api_10)\n",
    "Api_17 = extract_feature(Api_17)\n",
    "Api_24 = extract_feature(Api_24)\n",
    "May_01 = extract_feature(May_01)\n",
    "May_08 = extract_feature(May_08)\n",
    "May_15 = extract_feature(May_15)\n",
    "May_22 = extract_feature(May_22)\n",
    "Jun_05 = extract_feature(Jun_05)"
   ]
  },
  {
   "cell_type": "markdown",
   "metadata": {},
   "source": [
    "# Combine all data as one data "
   ]
  },
  {
   "cell_type": "code",
   "execution_count": 8,
   "metadata": {},
   "outputs": [],
   "source": [
    "data_list = [Jan_31, Feb_07, Feb_14, Feb_21, Feb_28, Mar_06, Mar_13, Mar_20, Mar_27, Api_03, Api_10, Api_17, Api_24, May_01, May_08, \n",
    "             May_15, May_22, Jun_05]"
   ]
  },
  {
   "cell_type": "code",
   "execution_count": 9,
   "metadata": {},
   "outputs": [],
   "source": [
    "data = pd.concat(data_list, axis=0)\n",
    "data.reset_index(drop=True, inplace = True)"
   ]
  },
  {
   "cell_type": "markdown",
   "metadata": {},
   "source": [
    "# replace date as start date and end date"
   ]
  },
  {
   "cell_type": "code",
   "execution_count": 10,
   "metadata": {},
   "outputs": [],
   "source": [
    "start = [0]*data.shape[0]\n",
    "end = [0]*data.shape[0]\n",
    "\n",
    "data['start_date'] = start\n",
    "data['end_date'] = end\n",
    "\n",
    "for row in range(data.shape[0]) :\n",
    "    data['start_date'][row], data['end_date'][row] = data['date'][row].split('--')\n",
    "    \n",
    "data.drop(['date'], axis=1, inplace=True)"
   ]
  },
  {
   "cell_type": "code",
   "execution_count": 11,
   "metadata": {},
   "outputs": [],
   "source": [
    "data.to_csv('data/data.csv')"
   ]
  },
  {
   "cell_type": "code",
   "execution_count": null,
   "metadata": {},
   "outputs": [],
   "source": []
  },
  {
   "cell_type": "code",
   "execution_count": null,
   "metadata": {},
   "outputs": [],
   "source": []
  },
  {
   "cell_type": "code",
   "execution_count": null,
   "metadata": {},
   "outputs": [],
   "source": []
  },
  {
   "cell_type": "code",
   "execution_count": null,
   "metadata": {},
   "outputs": [],
   "source": []
  },
  {
   "cell_type": "code",
   "execution_count": null,
   "metadata": {},
   "outputs": [],
   "source": []
  },
  {
   "cell_type": "code",
   "execution_count": null,
   "metadata": {},
   "outputs": [],
   "source": []
  }
 ],
 "metadata": {
  "kernelspec": {
   "display_name": "Python 3",
   "language": "python",
   "name": "python3"
  },
  "language_info": {
   "codemirror_mode": {
    "name": "ipython",
    "version": 3
   },
   "file_extension": ".py",
   "mimetype": "text/x-python",
   "name": "python",
   "nbconvert_exporter": "python",
   "pygments_lexer": "ipython3",
   "version": "3.7.6"
  }
 },
 "nbformat": 4,
 "nbformat_minor": 4
}
